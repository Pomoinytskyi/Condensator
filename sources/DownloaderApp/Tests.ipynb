{
 "cells": [
  {
   "attachments": {},
   "cell_type": "markdown",
   "metadata": {},
   "source": [
    "Create RabitMQ connection and channel"
   ]
  },
  {
   "cell_type": "code",
   "execution_count": 21,
   "metadata": {},
   "outputs": [
    {
     "data": {
      "text/plain": [
       "<METHOD(['channel_number=1', 'frame_type=1', \"method=<Queue.DeclareOk(['consumer_count=1', 'message_count=0', 'queue=Download'])>\"])>"
      ]
     },
     "execution_count": 21,
     "metadata": {},
     "output_type": "execute_result"
    }
   ],
   "source": [
    "import pika\n",
    "hostName = 'localhost'\n",
    "helloChannelName = 'Download'\n",
    "helloRoutingKey = 'Download'\n",
    "\n",
    "connection = pika.BlockingConnection(pika.ConnectionParameters(host=hostName))\n",
    "channel = connection.channel()\n",
    "\n",
    "channel.queue_declare(queue=helloChannelName, durable = True)"
   ]
  },
  {
   "attachments": {},
   "cell_type": "markdown",
   "metadata": {},
   "source": [
    "Send messages"
   ]
  },
  {
   "cell_type": "code",
   "execution_count": 22,
   "metadata": {},
   "outputs": [
    {
     "name": "stdout",
     "output_type": "stream",
     "text": [
      "{\n",
      "    \"Url\": \"https://www.geekwire.com/2023/tech-roadmap-washington-state-quantum-industry/\",\n",
      "    \"SourceId\": \"cloudamqp\",\n",
      "    \"TimeStamp\": \"2023-01-26T14:14:19.329368\"\n",
      "}\n"
     ]
    }
   ],
   "source": [
    "import json\n",
    "import datetime\n",
    "from json import JSONEncoder\n",
    "\n",
    "class DownloadRequestMessage:\n",
    "    Url = \"\"\n",
    "    SourceId = \"\"\n",
    "    TimeStamp = datetime.datetime.now()\n",
    "    \n",
    "    def __init__(self, url: str, sourceId: str, timeStamp: datetime):\n",
    "        self.Url = url\n",
    "        self.SourceId = sourceId\n",
    "        self.TimeStamp = timeStamp\n",
    "\n",
    "class DateTimeEncoder(JSONEncoder):\n",
    "        #Override the default method\n",
    "        def default(self, obj):\n",
    "            if isinstance(obj, (datetime.date, datetime.datetime)):\n",
    "                return obj.isoformat()\n",
    "\n",
    "messageObj = DownloadRequestMessage(\n",
    "    url = \"https://www.geekwire.com/2023/tech-roadmap-washington-state-quantum-industry/\",\n",
    "    sourceId = \"cloudamqp\",\n",
    "    timeStamp = datetime.datetime.now())\n",
    "\n",
    "jsonMessage = json.dumps(messageObj.__dict__, indent=4, cls=DateTimeEncoder)\n",
    "\n",
    "print(jsonMessage)"
   ]
  },
  {
   "cell_type": "code",
   "execution_count": 23,
   "metadata": {},
   "outputs": [
    {
     "name": "stdout",
     "output_type": "stream",
     "text": [
      "{\n",
      "    \"Url\": \"https://www.geekwire.com/2023/tech-roadmap-washington-state-quantum-industry/\",\n",
      "    \"SourceId\": \"cloudamqp\",\n",
      "    \"TimeStamp\": \"2023-01-26T14:14:19.329368\"\n",
      "}\n"
     ]
    }
   ],
   "source": [
    "channel.basic_publish(exchange='', routing_key = helloRoutingKey, body=jsonMessage)\n",
    "print(jsonMessage)"
   ]
  },
  {
   "cell_type": "markdown",
   "metadata": {},
   "source": []
  },
  {
   "attachments": {},
   "cell_type": "markdown",
   "metadata": {},
   "source": [
    "Close connection. Cleanup resources."
   ]
  },
  {
   "cell_type": "code",
   "execution_count": 24,
   "metadata": {},
   "outputs": [],
   "source": [
    "connection.close()"
   ]
  }
 ],
 "metadata": {
  "kernelspec": {
   "display_name": "ML",
   "language": "python",
   "name": "python3"
  },
  "language_info": {
   "codemirror_mode": {
    "name": "ipython",
    "version": 3
   },
   "file_extension": ".py",
   "mimetype": "text/x-python",
   "name": "python",
   "nbconvert_exporter": "python",
   "pygments_lexer": "ipython3",
   "version": "3.9.13 (main, Oct 13 2022, 21:23:06) [MSC v.1916 64 bit (AMD64)]"
  },
  "orig_nbformat": 4,
  "vscode": {
   "interpreter": {
    "hash": "cc2e9b84aae6daa9c3a7c72d8ebbf4636f04af1e114e8634d7808a78b6627952"
   }
  }
 },
 "nbformat": 4,
 "nbformat_minor": 2
}
